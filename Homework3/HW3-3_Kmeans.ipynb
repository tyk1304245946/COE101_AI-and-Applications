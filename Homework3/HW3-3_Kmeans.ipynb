{
 "cells": [
  {
   "cell_type": "code",
   "execution_count": 67,
   "metadata": {},
   "outputs": [],
   "source": [
    "import numpy as np\n",
    "import matplotlib.pyplot as plt"
   ]
  },
  {
   "cell_type": "code",
   "execution_count": 68,
   "metadata": {},
   "outputs": [],
   "source": [
    "def kmeans(data: np.ndarray, n_cl: int):\n",
    "    \"\"\"\n",
    "    K-means clustering\n",
    "    :param data: np.ndarray of shape (n_samples, n_features)\n",
    "    :param n_cl: number of clusters\n",
    "    :return: np.ndarray of shape (n_samples,) with cluster indices\n",
    "    \"\"\"\n",
    "    n_samples, n_features = data.shape\n",
    "    \n",
    "    # Initialize cluster centers\n",
    "    # centers = data[np.random.choice(n_samples, n_cl, replace=False)]\n",
    "    centers = [[0,4], [3,3]]\n",
    "\n",
    "    # Initialize cluster indices\n",
    "    clusters = np.zeros(n_samples, dtype=int)\n",
    "\n",
    "    # Initialize distances\n",
    "    distances = np.zeros((n_samples, n_cl))\n",
    "\n",
    "    # Main loop\n",
    "    loop = 0\n",
    "    while True:\n",
    "        loop += 1\n",
    "        print(f\"Loop {loop}:\")\n",
    "\n",
    "        print(f\"Centers: {centers[0]}, {centers[1]}\")\n",
    "\n",
    "        # Compute distances\n",
    "        for i in range(n_cl):\n",
    "            distances[:, i] = np.linalg.norm(data - centers[i], axis=1)\n",
    "        print(f\"Distances:\\n{distances}\")\n",
    "\n",
    "        # Assign clusters\n",
    "        new_clusters = np.argmin(distances, axis=1)\n",
    "        print(f\"new_Clusters: {new_clusters}\")\n",
    "\n",
    "        print()\n",
    "\n",
    "        # Check for convergence\n",
    "        if np.all(new_clusters == clusters):\n",
    "            break\n",
    "        clusters = new_clusters\n",
    "\n",
    "        # Update cluster centers\n",
    "        for i in range(n_cl):\n",
    "            centers[i] = np.mean(data[clusters == i], axis=0)\n",
    "\n",
    "    return clusters\n"
   ]
  },
  {
   "cell_type": "code",
   "execution_count": 69,
   "metadata": {},
   "outputs": [
    {
     "name": "stdout",
     "output_type": "stream",
     "text": [
      "Loop 1:\n",
      "Centers: [0, 4], [3, 3]\n",
      "Distances:\n",
      "[[5.83095189 2.82842712]\n",
      " [5.38516481 2.23606798]\n",
      " [5.         2.23606798]\n",
      " [4.47213595 1.41421356]\n",
      " [1.41421356 2.        ]\n",
      " [1.         2.23606798]\n",
      " [2.23606798 1.        ]\n",
      " [2.         1.41421356]]\n",
      "new_Clusters: [1 1 1 1 0 0 1 1]\n",
      "\n",
      "Loop 2:\n",
      "Centers: [1.  3.5], [3.66666667 2.16666667]\n",
      "Distances:\n",
      "[[4.71699057 1.77169097]\n",
      " [4.27200187 1.34370962]\n",
      " [3.90512484 1.21335165]\n",
      " [3.35410197 0.372678  ]\n",
      " [0.5        2.79384244]\n",
      " [0.5        3.23608131]\n",
      " [1.11803399 1.86338998]\n",
      " [1.11803399 2.47767812]]\n",
      "new_Clusters: [1 1 1 1 0 0 0 0]\n",
      "\n",
      "Loop 3:\n",
      "Centers: [1.5 3.5], [4.5 1.5]\n",
      "Distances:\n",
      "[[4.30116263 0.70710678]\n",
      " [3.80788655 0.70710678]\n",
      " [3.53553391 0.70710678]\n",
      " [2.91547595 0.70710678]\n",
      " [0.70710678 3.80788655]\n",
      " [0.70710678 4.30116263]\n",
      " [0.70710678 2.91547595]\n",
      " [0.70710678 3.53553391]]\n",
      "new_Clusters: [1 1 1 1 0 0 0 0]\n",
      "\n",
      "Final clusters: [1 1 1 1 0 0 0 0]\n"
     ]
    }
   ],
   "source": [
    "data = np.array([[5,1], [5,2], [4,1], [4,2], [1,3], [1,4], [2,3], [2,4]])\n",
    "\n",
    "clusters = kmeans(data, 2)\n",
    "\n",
    "print(f\"Final clusters: {clusters}\")"
   ]
  },
  {
   "cell_type": "code",
   "execution_count": 70,
   "metadata": {},
   "outputs": [
    {
     "data": {
      "image/png": "[encoded data removed]",
      "text/plain": [
       "<Figure size 640x480 with 1 Axes>"
      ]
     },
     "metadata": {},
     "output_type": "display_data"
    }
   ],
   "source": [
    "# draw the data points\n",
    "plt.scatter(data[:, 0], data[:, 1], c=clusters)\n",
    "plt.show()"
   ]
  }
 ],
 "metadata": {
  "kernelspec": {
   "display_name": "ml-env",
   "language": "python",
   "name": "python3"
  },
  "language_info": {
   "codemirror_mode": {
    "name": "ipython",
    "version": 3
   },
   "file_extension": ".py",
   "mimetype": "text/x-python",
   "name": "python",
   "nbconvert_exporter": "python",
   "pygments_lexer": "ipython3",
   "version": "3.12.4"
  }
 },
 "nbformat": 4,
 "nbformat_minor": 2
}
