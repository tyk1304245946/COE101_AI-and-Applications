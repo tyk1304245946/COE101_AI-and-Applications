{
    "cells": [
        {
            "cell_type": "code",
            "execution_count": 1,
            "metadata": {},
            "outputs": [],
            "source": [
                "import numpy as np\n",
                "import pandas as pd"
            ]
        },
        {
            "cell_type": "code",
            "execution_count": 2,
            "metadata": {},
            "outputs": [
                {
                    "data": {
                        "text/html": [
                            "<div>\n",
                            "<style scoped>\n",
                            "    .dataframe tbody tr th:only-of-type {\n",
                            "        vertical-align: middle;\n",
                            "    }\n",
                            "\n",
                            "    .dataframe tbody tr th {\n",
                            "        vertical-align: top;\n",
                            "    }\n",
                            "\n",
                            "    .dataframe thead th {\n",
                            "        text-align: right;\n",
                            "    }\n",
                            "</style>\n",
                            "<table border=\"1\" class=\"dataframe\">\n",
                            "  <thead>\n",
                            "    <tr style=\"text-align: right;\">\n",
                            "      <th></th>\n",
                            "      <th>花朵颜色</th>\n",
                            "      <th>叶子形状</th>\n",
                            "      <th>花朵种类</th>\n",
                            "    </tr>\n",
                            "  </thead>\n",
                            "  <tbody>\n",
                            "    <tr>\n",
                            "      <th>0</th>\n",
                            "      <td>红</td>\n",
                            "      <td>圆</td>\n",
                            "      <td>Iris-Ame</td>\n",
                            "    </tr>\n",
                            "    <tr>\n",
                            "      <th>1</th>\n",
                            "      <td>红</td>\n",
                            "      <td>长条</td>\n",
                            "      <td>Iris-Ame</td>\n",
                            "    </tr>\n",
                            "    <tr>\n",
                            "      <th>2</th>\n",
                            "      <td>黑</td>\n",
                            "      <td>针状</td>\n",
                            "      <td>Iris-Ame</td>\n",
                            "    </tr>\n",
                            "    <tr>\n",
                            "      <th>3</th>\n",
                            "      <td>黑</td>\n",
                            "      <td>针状</td>\n",
                            "      <td>Iris-Somnus</td>\n",
                            "    </tr>\n",
                            "    <tr>\n",
                            "      <th>4</th>\n",
                            "      <td>黑</td>\n",
                            "      <td>长条</td>\n",
                            "      <td>Iris-Somnus</td>\n",
                            "    </tr>\n",
                            "    <tr>\n",
                            "      <th>5</th>\n",
                            "      <td>紫</td>\n",
                            "      <td>圆</td>\n",
                            "      <td>Iris-Somnus</td>\n",
                            "    </tr>\n",
                            "    <tr>\n",
                            "      <th>6</th>\n",
                            "      <td>紫</td>\n",
                            "      <td>针状</td>\n",
                            "      <td>Iris-XinQ</td>\n",
                            "    </tr>\n",
                            "    <tr>\n",
                            "      <th>7</th>\n",
                            "      <td>红</td>\n",
                            "      <td>圆</td>\n",
                            "      <td>Iris-XinQ</td>\n",
                            "    </tr>\n",
                            "    <tr>\n",
                            "      <th>8</th>\n",
                            "      <td>紫</td>\n",
                            "      <td>长条</td>\n",
                            "      <td>Iris-XinQ</td>\n",
                            "    </tr>\n",
                            "  </tbody>\n",
                            "</table>\n",
                            "</div>"
                        ],
                        "text/plain": [
                            "  花朵颜色 叶子形状         花朵种类\n",
                            "0    红    圆     Iris-Ame\n",
                            "1    红   长条     Iris-Ame\n",
                            "2    黑   针状     Iris-Ame\n",
                            "3    黑   针状  Iris-Somnus\n",
                            "4    黑   长条  Iris-Somnus\n",
                            "5    紫    圆  Iris-Somnus\n",
                            "6    紫   针状    Iris-XinQ\n",
                            "7    红    圆    Iris-XinQ\n",
                            "8    紫   长条    Iris-XinQ"
                        ]
                    },
                    "execution_count": 2,
                    "metadata": {},
                    "output_type": "execute_result"
                }
            ],
            "source": [
                "df = pd.read_csv('HW3-2.csv')\n",
                "df"
            ]
        },
        {
            "cell_type": "code",
            "execution_count": 3,
            "metadata": {},
            "outputs": [],
            "source": [
                "def compute_entropy(df, target):\n",
                "    entropy = 0\n",
                "    for i in df[target].unique():\n",
                "        p = sum(df[target] == i) / len(df)\n",
                "        entropy -= p * np.log2(p)\n",
                "    return entropy\n",
                "\n",
                "def gain(df, target, attribute):\n",
                "    gain = compute_entropy(df, target)\n",
                "    for i in df[attribute].unique():\n",
                "        sub_df = df[df[attribute] == i]\n",
                "        gain -= len(sub_df) / len(df) * compute_entropy(sub_df, target)\n",
                "    return gain"
            ]
        },
        {
            "cell_type": "code",
            "execution_count": 4,
            "metadata": {},
            "outputs": [
                {
                    "name": "stdout",
                    "output_type": "stream",
                    "text": [
                        "花朵颜色\n",
                        "Gain: 0.6667\n",
                        "叶子形状\n",
                        "Gain: 0.0000\n"
                    ]
                }
            ],
            "source": [
                "features = df.columns[:2]\n",
                "for feature in features:\n",
                "    print(feature)\n",
                "    print(f\"Gain: {gain(df, feature, '花朵种类'):.4f}\")\n"
            ]
        },
        {
            "cell_type": "markdown",
            "metadata": {},
            "source": [
                "### 所以选择`花朵颜色`作为划分特征"
            ]
        }
    ],
    "metadata": {
        "kernelspec": {
            "display_name": "ml-env",
            "language": "python",
            "name": "python3"
        },
        "language_info": {
            "codemirror_mode": {
                "name": "ipython",
                "version": 3
            },
            "file_extension": ".py",
            "mimetype": "text/x-python",
            "name": "python",
            "nbconvert_exporter": "python",
            "pygments_lexer": "ipython3",
            "version": "3.12.4"
        }
    },
    "nbformat": 4,
    "nbformat_minor": 2
}
