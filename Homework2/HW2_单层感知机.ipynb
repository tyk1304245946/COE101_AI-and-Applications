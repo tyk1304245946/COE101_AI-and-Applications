{
 "cells": [
  {
   "cell_type": "code",
   "execution_count": 1,
   "metadata": {},
   "outputs": [],
   "source": [
    "import numpy as np"
   ]
  },
  {
   "cell_type": "code",
   "execution_count": 2,
   "metadata": {},
   "outputs": [],
   "source": [
    "n = 3\n",
    "\n",
    "data_x = [\n",
    "    [3.7, -10.5, 27.49],\n",
    "    [4.8, 0.13, 21.75],\n",
    "    [4.9, 1.25, 22.31],\n",
    "    [4.8, 0.13, 21.75],\n",
    "    [3.7, -10.5, 27.49],\n",
    "    [4.9, 1.25, 22.31],\n",
    "    [3.7, -10.5, 27.49],\n",
    "    [4.9, 1.25, 22.31],\n",
    "    [4.8, 0.13, 21.75],\n",
    "    [3.7, -10.5, 27.49],\n",
    "    [4.9, 1.25, 22.31],\n",
    "    [4.8, 0.13, 21.75]]\n",
    "data_y = [1, -1, -1, -1, 1, -1, 1, -1, -1, 1, -1, -1]\n",
    "\n",
    "data_x = np.array(data_x)\n",
    "data_y = np.array(data_y)"
   ]
  },
  {
   "cell_type": "code",
   "execution_count": 3,
   "metadata": {},
   "outputs": [],
   "source": [
    "def SGN(x):\n",
    "    if x > 0:\n",
    "        return 1\n",
    "    else:\n",
    "        return -1"
   ]
  },
  {
   "cell_type": "code",
   "execution_count": 11,
   "metadata": {},
   "outputs": [
    {
     "name": "stdout",
     "output_type": "stream",
     "text": [
      "k:  0, w^T * x:    0.00, y_estimate: -1, w: [  3.7  -10.5   27.49]\n",
      "k:  1, w^T * x:  614.30, y_estimate:  1, w: [ -1.1  -10.63   5.74]\n",
      "k:  2, w^T * x:  109.38, y_estimate:  1, w: [ -6.   -11.88 -16.57]\n",
      "k:  3, w^T * x: -390.74, y_estimate: -1, w: [ -6.   -11.88 -16.57]\n",
      "k:  4, w^T * x: -352.97, y_estimate: -1, w: [ -2.3  -22.38  10.92]\n",
      "k:  5, w^T * x:  204.38, y_estimate:  1, w: [ -7.2  -23.63 -11.39]\n",
      "k:  6, w^T * x:  -91.64, y_estimate: -1, w: [ -3.5  -34.13  16.1 ]\n",
      "k:  7, w^T * x:  299.38, y_estimate:  1, w: [ -8.4  -35.38  -6.21]\n",
      "k:  8, w^T * x: -179.99, y_estimate: -1, w: [ -8.4  -35.38  -6.21]\n",
      "k:  9, w^T * x:  169.70, y_estimate:  1, w: [ -8.4  -35.38  -6.21]\n",
      "k: 10, w^T * x: -223.93, y_estimate: -1, w: [ -8.4  -35.38  -6.21]\n",
      "k: 11, w^T * x: -179.99, y_estimate: -1, w: [ -8.4  -35.38  -6.21]\n"
     ]
    }
   ],
   "source": [
    "w = [0, 0, 0]\n",
    "w = np.array(w)\n",
    "result = []\n",
    "\n",
    "for k in range(12):\n",
    "    # print(\"k:\", k)\n",
    "    x = data_x[k]\n",
    "    y = data_y[k]\n",
    "    wx = np.dot(w, x)\n",
    "    # print(\"w^T * x:\", wx)\n",
    "    y_est = SGN(wx)\n",
    "    # print(\"y_estimate:\", y_est)\n",
    "    if y_est * y <= 0:\n",
    "        w = np.add(w, y*x)\n",
    "    # print(\"w:\", w)\n",
    "    # print()\n",
    "\n",
    "    result.append((k, wx, y_est, w))\n",
    "\n",
    "for (k, wx, y_est, w) in result:\n",
    "    print(f\"k: {k:2d}, w^T * x: {wx:7.2f}, y_estimate: {y_est:2d}, w: {w}\")"
   ]
  }
 ],
 "metadata": {
  "kernelspec": {
   "display_name": "ml-env",
   "language": "python",
   "name": "python3"
  },
  "language_info": {
   "codemirror_mode": {
    "name": "ipython",
    "version": 3
   },
   "file_extension": ".py",
   "mimetype": "text/x-python",
   "name": "python",
   "nbconvert_exporter": "python",
   "pygments_lexer": "ipython3",
   "version": "3.12.4"
  }
 },
 "nbformat": 4,
 "nbformat_minor": 2
}
